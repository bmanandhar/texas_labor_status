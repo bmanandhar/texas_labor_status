{
 "cells": [
  {
   "cell_type": "code",
   "execution_count": 4,
   "id": "13421a80",
   "metadata": {},
   "outputs": [],
   "source": [
    "import pandas as pd\n",
    "import warnings\n",
    "warnings.filterwarnings('ignore', '.*do not.*',)"
   ]
  },
  {
   "cell_type": "code",
   "execution_count": 5,
   "id": "5db91acf",
   "metadata": {},
   "outputs": [
    {
     "data": {
      "text/html": [
       "<div>\n",
       "<style scoped>\n",
       "    .dataframe tbody tr th:only-of-type {\n",
       "        vertical-align: middle;\n",
       "    }\n",
       "\n",
       "    .dataframe tbody tr th {\n",
       "        vertical-align: top;\n",
       "    }\n",
       "\n",
       "    .dataframe thead th {\n",
       "        text-align: right;\n",
       "    }\n",
       "</style>\n",
       "<table border=\"1\" class=\"dataframe\">\n",
       "  <thead>\n",
       "    <tr style=\"text-align: right;\">\n",
       "      <th></th>\n",
       "      <th>Year</th>\n",
       "      <th>Period</th>\n",
       "      <th>Area</th>\n",
       "      <th>Area Type</th>\n",
       "      <th>Adjustment</th>\n",
       "      <th>Employment</th>\n",
       "      <th>Civilian Labor Force</th>\n",
       "      <th>Unemployment</th>\n",
       "      <th>Unemployment Rate</th>\n",
       "    </tr>\n",
       "  </thead>\n",
       "  <tbody>\n",
       "    <tr>\n",
       "      <th>0</th>\n",
       "      <td>2005</td>\n",
       "      <td>March</td>\n",
       "      <td>Texas</td>\n",
       "      <td>Texas</td>\n",
       "      <td>Not Adjusted</td>\n",
       "      <td>10,457,456</td>\n",
       "      <td>11,066,337</td>\n",
       "      <td>608,881</td>\n",
       "      <td>5.5</td>\n",
       "    </tr>\n",
       "    <tr>\n",
       "      <th>1</th>\n",
       "      <td>2005</td>\n",
       "      <td>March</td>\n",
       "      <td>Texas</td>\n",
       "      <td>Texas</td>\n",
       "      <td>Adjusted</td>\n",
       "      <td>10,502,785</td>\n",
       "      <td>11,125,846</td>\n",
       "      <td>623,061</td>\n",
       "      <td>5.6</td>\n",
       "    </tr>\n",
       "    <tr>\n",
       "      <th>2</th>\n",
       "      <td>2005</td>\n",
       "      <td>June</td>\n",
       "      <td>Texas</td>\n",
       "      <td>Texas</td>\n",
       "      <td>Not Adjusted</td>\n",
       "      <td>10,557,049</td>\n",
       "      <td>11,181,612</td>\n",
       "      <td>624,563</td>\n",
       "      <td>5.6</td>\n",
       "    </tr>\n",
       "    <tr>\n",
       "      <th>3</th>\n",
       "      <td>2005</td>\n",
       "      <td>June</td>\n",
       "      <td>Texas</td>\n",
       "      <td>Texas</td>\n",
       "      <td>Adjusted</td>\n",
       "      <td>10,569,961</td>\n",
       "      <td>11,163,389</td>\n",
       "      <td>593,428</td>\n",
       "      <td>5.3</td>\n",
       "    </tr>\n",
       "    <tr>\n",
       "      <th>4</th>\n",
       "      <td>2005</td>\n",
       "      <td>September</td>\n",
       "      <td>Texas</td>\n",
       "      <td>Texas</td>\n",
       "      <td>Not Adjusted</td>\n",
       "      <td>10,589,753</td>\n",
       "      <td>11,216,770</td>\n",
       "      <td>627,017</td>\n",
       "      <td>5.6</td>\n",
       "    </tr>\n",
       "  </tbody>\n",
       "</table>\n",
       "</div>"
      ],
      "text/plain": [
       "   Year     Period   Area Area Type    Adjustment  Employment   \n",
       "0  2005      March  Texas     Texas  Not Adjusted  10,457,456  \\\n",
       "1  2005      March  Texas     Texas      Adjusted  10,502,785   \n",
       "2  2005       June  Texas     Texas  Not Adjusted  10,557,049   \n",
       "3  2005       June  Texas     Texas      Adjusted  10,569,961   \n",
       "4  2005  September  Texas     Texas  Not Adjusted  10,589,753   \n",
       "\n",
       "  Civilian Labor Force Unemployment  Unemployment Rate  \n",
       "0           11,066,337      608,881                5.5  \n",
       "1           11,125,846      623,061                5.6  \n",
       "2           11,181,612      624,563                5.6  \n",
       "3           11,163,389      593,428                5.3  \n",
       "4           11,216,770      627,017                5.6  "
      ]
     },
     "execution_count": 5,
     "metadata": {},
     "output_type": "execute_result"
    }
   ],
   "source": [
    "# data source: `https://datasets.omdena.com/dataset/labor-stats-2005-2021-(texas--usa)`\n",
    "df = pd.read_csv('Tx_LaborStats_2005-2021.csv')\n",
    "df.head()"
   ]
  },
  {
   "cell_type": "code",
   "execution_count": 6,
   "id": "ac024648",
   "metadata": {},
   "outputs": [
    {
     "data": {
      "text/plain": [
       "(16896, 9)"
      ]
     },
     "execution_count": 6,
     "metadata": {},
     "output_type": "execute_result"
    }
   ],
   "source": [
    "df.shape"
   ]
  },
  {
   "cell_type": "code",
   "execution_count": 3,
   "id": "652a91a4",
   "metadata": {},
   "outputs": [
    {
     "data": {
      "text/plain": [
       "array(['March', 'June', 'September', 'December'], dtype=object)"
      ]
     },
     "execution_count": 3,
     "metadata": {},
     "output_type": "execute_result"
    }
   ],
   "source": [
    "df['Period'].unique()"
   ]
  },
  {
   "cell_type": "code",
   "execution_count": 4,
   "id": "148d56ed",
   "metadata": {},
   "outputs": [
    {
     "data": {
      "text/plain": [
       "255"
      ]
     },
     "execution_count": 4,
     "metadata": {},
     "output_type": "execute_result"
    }
   ],
   "source": [
    "len(df.Area.unique())"
   ]
  },
  {
   "cell_type": "code",
   "execution_count": 5,
   "id": "e6b17816",
   "metadata": {},
   "outputs": [
    {
     "data": {
      "text/plain": [
       "array(['Texas', 'County'], dtype=object)"
      ]
     },
     "execution_count": 5,
     "metadata": {},
     "output_type": "execute_result"
    }
   ],
   "source": [
    "df['Area Type'].unique()"
   ]
  },
  {
   "cell_type": "code",
   "execution_count": 6,
   "id": "e570ad30",
   "metadata": {},
   "outputs": [
    {
     "data": {
      "text/html": [
       "<div>\n",
       "<style scoped>\n",
       "    .dataframe tbody tr th:only-of-type {\n",
       "        vertical-align: middle;\n",
       "    }\n",
       "\n",
       "    .dataframe tbody tr th {\n",
       "        vertical-align: top;\n",
       "    }\n",
       "\n",
       "    .dataframe thead th {\n",
       "        text-align: right;\n",
       "    }\n",
       "</style>\n",
       "<table border=\"1\" class=\"dataframe\">\n",
       "  <thead>\n",
       "    <tr style=\"text-align: right;\">\n",
       "      <th></th>\n",
       "      <th>Year</th>\n",
       "      <th>Unemployment Rate</th>\n",
       "    </tr>\n",
       "  </thead>\n",
       "  <tbody>\n",
       "    <tr>\n",
       "      <th>count</th>\n",
       "      <td>16896.000000</td>\n",
       "      <td>16896.000000</td>\n",
       "    </tr>\n",
       "    <tr>\n",
       "      <th>mean</th>\n",
       "      <td>2012.757576</td>\n",
       "      <td>5.575112</td>\n",
       "    </tr>\n",
       "    <tr>\n",
       "      <th>std</th>\n",
       "      <td>4.767647</td>\n",
       "      <td>2.321590</td>\n",
       "    </tr>\n",
       "    <tr>\n",
       "      <th>min</th>\n",
       "      <td>2005.000000</td>\n",
       "      <td>0.700000</td>\n",
       "    </tr>\n",
       "    <tr>\n",
       "      <th>25%</th>\n",
       "      <td>2009.000000</td>\n",
       "      <td>3.975000</td>\n",
       "    </tr>\n",
       "    <tr>\n",
       "      <th>50%</th>\n",
       "      <td>2013.000000</td>\n",
       "      <td>5.000000</td>\n",
       "    </tr>\n",
       "    <tr>\n",
       "      <th>75%</th>\n",
       "      <td>2017.000000</td>\n",
       "      <td>6.700000</td>\n",
       "    </tr>\n",
       "    <tr>\n",
       "      <th>max</th>\n",
       "      <td>2021.000000</td>\n",
       "      <td>20.500000</td>\n",
       "    </tr>\n",
       "  </tbody>\n",
       "</table>\n",
       "</div>"
      ],
      "text/plain": [
       "               Year  Unemployment Rate\n",
       "count  16896.000000       16896.000000\n",
       "mean    2012.757576           5.575112\n",
       "std        4.767647           2.321590\n",
       "min     2005.000000           0.700000\n",
       "25%     2009.000000           3.975000\n",
       "50%     2013.000000           5.000000\n",
       "75%     2017.000000           6.700000\n",
       "max     2021.000000          20.500000"
      ]
     },
     "execution_count": 6,
     "metadata": {},
     "output_type": "execute_result"
    }
   ],
   "source": [
    "df.describe()"
   ]
  },
  {
   "cell_type": "code",
   "execution_count": 7,
   "id": "55ee84d9",
   "metadata": {},
   "outputs": [],
   "source": [
    "df = df.dropna()"
   ]
  },
  {
   "cell_type": "code",
   "execution_count": 8,
   "id": "9aeb0dec",
   "metadata": {},
   "outputs": [],
   "source": [
    "df['Year'] = df['Year'].astype(str)"
   ]
  },
  {
   "cell_type": "code",
   "execution_count": 9,
   "id": "3995733a",
   "metadata": {},
   "outputs": [],
   "source": [
    "df_not_adjusted = df[df.Adjustment=='Not Adjusted']"
   ]
  },
  {
   "cell_type": "code",
   "execution_count": 10,
   "id": "f2f90066",
   "metadata": {},
   "outputs": [
    {
     "name": "stdout",
     "output_type": "stream",
     "text": [
      "['2005' '2006' '2007' '2008' '2009' '2010' '2011' '2012' '2013' '2014'\n",
      " '2015' '2016' '2017' '2018' '2019' '2020' '2021']\n"
     ]
    }
   ],
   "source": [
    "years = df.Year.unique()\n",
    "print(years)"
   ]
  },
  {
   "cell_type": "code",
   "execution_count": 11,
   "id": "fb8a369f",
   "metadata": {},
   "outputs": [
    {
     "name": "stdout",
     "output_type": "stream",
     "text": [
      "[5.2, 4.8, 4.3, 4.7, 7.5, 8.0, 7.7, 6.4, 6.1, 4.9, 4.8, 5.2, 4.4, 3.9, 3.5, 7.0, 6.8]\n"
     ]
    }
   ],
   "source": [
    "def calculate_mean_rate(yrs, df):\n",
    "    result = []\n",
    "    for i in range(len(yrs)):\n",
    "        result.append(round(df_not_adjusted.loc[df_not_adjusted['Year']==yrs[i],'Unemployment Rate'].mean(),1))\n",
    "    return result \n",
    "    \n",
    "mean_unemployed_rate = calculate_mean_rate(years, df_not_adjusted)  \n",
    "print(mean_unemployed_rate)"
   ]
  },
  {
   "cell_type": "code",
   "execution_count": 12,
   "id": "178b36dd",
   "metadata": {},
   "outputs": [],
   "source": [
    "import matplotlib.pyplot as plt\n",
    "%matplotlib inline"
   ]
  },
  {
   "cell_type": "code",
   "execution_count": 13,
   "id": "4a0dbf6d",
   "metadata": {},
   "outputs": [
    {
     "data": {
      "image/png": "[encoded data removed]",
      "text/plain": [
       "<Figure size 1200x800 with 1 Axes>"
      ]
     },
     "metadata": {},
     "output_type": "display_data"
    }
   ],
   "source": [
    "plt.figure(figsize=(12, 8))\n",
    "\n",
    "plt.title('Year To Year Unemployment % (Texas)')\n",
    "plt.xlabel(\"Year\")\n",
    "plt.ylabel(\"Unemployment %\")\n",
    "plt.bar(range(len(years)), mean_unemployed_rate, tick_label=years, width=0.5)\n",
    "plt.xticks(rotation=45, fontsize=7)\n",
    "plt.show()"
   ]
  }
 ],
 "metadata": {
  "kernelspec": {
   "display_name": "Python 3 (ipykernel)",
   "language": "python",
   "name": "python3"
  },
  "language_info": {
   "codemirror_mode": {
    "name": "ipython",
    "version": 3
   },
   "file_extension": ".py",
   "mimetype": "text/x-python",
   "name": "python",
   "nbconvert_exporter": "python",
   "pygments_lexer": "ipython3",
   "version": "3.9.13"
  }
 },
 "nbformat": 4,
 "nbformat_minor": 5
}
